{
 "cells": [
  {
   "cell_type": "code",
   "execution_count": 3,
   "metadata": {},
   "outputs": [],
   "source": [
    "import cv2 # importing the OpenCV library\n",
    "import imutils # resize\n",
    "import time # delay\n"
   ]
  },
  {
   "cell_type": "code",
   "execution_count": 7,
   "metadata": {},
   "outputs": [],
   "source": [
    "cam=cv2.VideoCapture(0) #camera ID\n",
    "firstFrame=None\n",
    "area=500\n",
    "while True:\n",
    "    _,frame=cam.read() # read from the camera\n",
    "    text=\"Normal\"\n",
    "    frame=imutils.resize(frame,width=1000) # resize the frame to be 500 pixels high\n",
    "    grayFrame=cv2.cvtColor(frame,cv2.COLOR_BGR2GRAY) # convert the frame to grayscale\n",
    "    gaussianFrame=cv2.GaussianBlur(grayFrame,(21,21),0) # Smooth the image\n",
    "\n",
    "    if firstFrame is None:\n",
    "        firstFrame=gaussianFrame #capture the first frame\n",
    "        continue\n",
    "    frameDiff=cv2.absdiff(firstFrame,gaussianFrame) # calculate the difference between the two frames\n",
    "    threshFrame=cv2.threshold(frameDiff,25,255,cv2.THRESH_BINARY)[1] # threshold the difference image \n",
    "    threshFrame=cv2.dilate(threshFrame,None,iterations=2) # smooth the image\n",
    "    conts=cv2.findContours(threshFrame,cv2.RETR_EXTERNAL,cv2.CHAIN_APPROX_SIMPLE) # find the contours\n",
    "    conts=imutils.grab_contours(conts)\n",
    "    for c in conts:\n",
    "        if cv2.contourArea(c)<area:\n",
    "            continue\n",
    "        (x,y,w,h)=cv2.boundingRect(c)\n",
    "        cv2.rectangle(frame,(x,y),(x+w,y+h),(0,255,0),2)\n",
    "        text=\"Moving Object Detected\"\n",
    "    cv2.putText(frame,text,(10,20),cv2.FONT_HERSHEY_SIMPLEX,0.5,(0,0,255),2)\n",
    "    cv2.imshow(\"FrameFeed\",frame)\n",
    "    key=cv2.waitKey(10)\n",
    "    if key==ord('q'):\n",
    "        break\n",
    "cam.release()\n",
    "cv2.destroyAllWindows()\n",
    "\n",
    "\n"
   ]
  }
 ],
 "metadata": {
  "kernelspec": {
   "display_name": "opencv_env",
   "language": "python",
   "name": "python3"
  },
  "language_info": {
   "codemirror_mode": {
    "name": "ipython",
    "version": 3
   },
   "file_extension": ".py",
   "mimetype": "text/x-python",
   "name": "python",
   "nbconvert_exporter": "python",
   "pygments_lexer": "ipython3",
   "version": "3.8.19"
  }
 },
 "nbformat": 4,
 "nbformat_minor": 2
}
